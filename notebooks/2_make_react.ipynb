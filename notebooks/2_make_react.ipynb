{
 "cells": [
  {
   "cell_type": "markdown",
   "metadata": {},
   "source": [
    "## 準備をしよう！\n",
    "\n",
    "### 1. ライブラリのインポート\n",
    "- まずはじめに、このノートブックで使用するライブラリをインポートします。\n",
    "\n",
    "### 2. DifyからAPIキーを取得\n",
    "- Difyにログイン(https://dify-llm-study-2nd-50086289502.asia-northeast1.run.app/apps)\n",
    "- ChatBotを作成\n",
    "- 「APIアクセス」からAPIキーとURLを取得\n",
    "\n",
    "### 3. 取得したAPIkeyとURLを設定\n",
    "- 取得したAPIキーとURLをGoogle Colabに設定します。\n",
    "\n",
    "### 4. そして以下を実行する。\n"
   ]
  },
  {
   "cell_type": "code",
   "execution_count": null,
   "metadata": {},
   "outputs": [],
   "source": [
    "\n",
    "dify_api_key=\"your api key\"\n",
    "dify_base_url=\"your base url\""
   ]
  },
  {
   "cell_type": "markdown",
   "metadata": {},
   "source": [
    "## 演習2\n",
    "\n",
    "演習1の内容をベースにReActベースのエージェントを作成してみましょう。\n",
    "以下のURLを参考にしてください。\n",
    "\n",
    "- create_react_agentのドキュメント\n",
    "https://langchain-ai.github.io/langgraph/reference/prebuilt/\n",
    "\n",
    "- ReActを使ったエージェントの作成チュートリアル\n",
    "https://python.langchain.com/docs/tutorials/agents/"
   ]
  },
  {
   "cell_type": "markdown",
   "metadata": {},
   "source": [
    "#### (参考) 現在の日時を取得するツール"
   ]
  },
  {
   "cell_type": "code",
   "execution_count": 22,
   "metadata": {},
   "outputs": [],
   "source": [
    "\n",
    "\n",
    "from langchain.tools import tool\n",
    "from datetime import datetime\n",
    "\n",
    "@tool(\"get_current_datetime\")\n",
    "def get_current_datetime() -> str:\n",
    "    \"\"\"\n",
    "    現在の日時を取得する関数型ツール。\n",
    "    :return: 現在の日時\n",
    "    \"\"\"\n",
    "    current_time = datetime.now().strftime(\"%Y-%m-%d %H:%M:%S\")\n",
    "    return f\"現在の日時は {current_time}\"\n"
   ]
  },
  {
   "cell_type": "markdown",
   "metadata": {},
   "source": [
    "### ツールを設定する"
   ]
  },
  {
   "cell_type": "code",
   "execution_count": null,
   "metadata": {},
   "outputs": [],
   "source": [
    "\n",
    "tools = [get_current_datetime]"
   ]
  },
  {
   "cell_type": "markdown",
   "metadata": {},
   "source": [
    "### 使用するLLMモデルを設定"
   ]
  },
  {
   "cell_type": "code",
   "execution_count": null,
   "metadata": {},
   "outputs": [],
   "source": [
    "from chemcrow.agents.dify_llm import DifyCustomLLM\n",
    "model =DifyCustomLLM(api_key=dify_api_key, user_id=\"llm-study-2\", base_url=dify_base_url)"
   ]
  },
  {
   "cell_type": "markdown",
   "metadata": {},
   "source": [
    "### 課題1：ReActベースのエージェントを作成\n",
    "以下のURLを参考にしてReActでエージェントを作成してください。\n",
    "\n",
    "- create_react_agentのドキュメント\n",
    "https://langchain-ai.github.io/langgraph/reference/prebuilt/\n",
    "\n",
    "- ReActを使ったエージェントの作成チュートリアル\n",
    "https://python.langchain.com/docs/tutorials/agents/\n"
   ]
  },
  {
   "cell_type": "code",
   "execution_count": null,
   "metadata": {},
   "outputs": [],
   "source": [
    "from langgraph.prebuilt import create_react_agent\n",
    "from langgraph.prebuilt.chat_agent_executor import AgentState\n",
    "from langchain_core.prompts import ChatPromptTemplate\n",
    "prompt = ChatPromptTemplate.from_messages([\n",
    "    (\"system\", \"\"\"You are a helpful AI assistant. \"\"\"),\n",
    "    (\"placeholder\", \"{messages}\"),\n",
    "])\n",
    "\n",
    "def _modify_state_messages(state: AgentState):\n",
    "    return prompt.invoke({\"messages\": state[\"messages\"]}).to_messages()\n",
    "\n",
    "query=\"What is today's date？\"\n",
    "\n",
    "# ここにエージェントの作成する\n",
    "langgraph_agent_executor = \n",
    "\n",
    "\n",
    "\n",
    "# エージェントの出力を表示をここに書く\n",
    "\n",
    "\n",
    "\n",
    "\n",
    "    # 出力を綺麗にしたい場合は以下のコメントアウトを外してください\n",
    "    # if 'agent' in step:\n",
    "    #     print(\"\\n=== Agent Action ===\")\n",
    "    #     messages = step['agent']['messages'][0]\n",
    "        \n",
    "    #     # ツール呼び出しの情報を表示\n",
    "    #     if messages.additional_kwargs.get('tool_calls'):\n",
    "    #         for tool_call in messages.additional_kwargs['tool_calls']:\n",
    "    #             print(f\"Tool: {tool_call['function']['name']}\")\n",
    "    #             print(f\"Arguments: {tool_call['function']['arguments']}\")\n",
    "        \n",
    "    #     # 最終的な応答を表示\n",
    "    #     if messages.content:\n",
    "    #         print(f\"Final Response: {messages.content}\")\n",
    "            \n",
    "    # if 'tools' in step:\n",
    "    #     print(\"\\n=== Tool Response ===\")\n",
    "    #     for message in step['tools']['messages']:\n",
    "    #         print(f\"Tool Name: {message.name}\")\n",
    "    #         print(f\"Result: {message.content}\")\n",
    "    \n",
    "    # print(\"\\n-------------------\")"
   ]
  },
  {
   "cell_type": "markdown",
   "metadata": {},
   "source": [
    "## 演習2+α\n",
    "\n",
    "Google検索を行うツールを用意しています。\n",
    "ReActベースのエージェントにGoogle検索を組み込んで「最新のAIニュース」を取得させてみましょう！"
   ]
  },
  {
   "cell_type": "markdown",
   "metadata": {},
   "source": [
    "#### (参考)Google検索ツール"
   ]
  },
  {
   "cell_type": "code",
   "execution_count": 23,
   "metadata": {},
   "outputs": [],
   "source": [
    "from typing import List, Optional\n",
    "from pydantic import BaseModel\n",
    "from langchain.tools import tool\n",
    "import requests\n",
    "from bs4 import BeautifulSoup\n",
    "\n",
    "# 入力スキーマの定義\n",
    "class GoogleSearchInput(BaseModel):\n",
    "    query: str\n",
    "    start_date: Optional[str] = None  # YYYY-MM-DD形式\n",
    "    end_date: Optional[str] = None    # YYYY-MM-DD形式\n",
    "    num_results: int = 10\n",
    "\n",
    "@tool(\"google_search\", args_schema=GoogleSearchInput)\n",
    "def google_search_tool(query: str, start_date: Optional[str] = None, end_date: Optional[str] = None, num_results: int = 10) -> List[str]:\n",
    "    \"\"\"\n",
    "    Google検索を実行し、指定されたクエリと日付範囲で結果を取得します。\n",
    "    \"\"\"\n",
    "    # 日付フィルタのクエリを追加\n",
    "    if start_date or end_date:\n",
    "        if start_date:\n",
    "            query += f\" after:{start_date}\"\n",
    "        if end_date:\n",
    "            query += f\" before:{end_date}\"\n",
    "\n",
    "    print(f\"検索クエリ: {query}\")\n",
    "\n",
    "    # Google検索のURL\n",
    "    url = f\"https://www.google.com/search?q={query}&num={num_results}\"\n",
    "    headers = {\n",
    "        \"User-Agent\": \"Mozilla/5.0 (Windows NT 10.0; Win64; x64) AppleWebKit/537.36 (KHTML, like Gecko) Chrome/114.0.0.0 Safari/537.36\"\n",
    "    }\n",
    "\n",
    "    # HTTPリクエスト\n",
    "    response = requests.get(url, headers=headers)\n",
    "    if response.status_code != 200:\n",
    "        return [f\"エラー: Googleからの応答が不正です (HTTP {response.status_code})\"]\n",
    "\n",
    "    # BeautifulSoupでHTML解析\n",
    "    soup = BeautifulSoup(response.text, \"html.parser\")\n",
    "    results = []\n",
    "\n",
    "    # 検索結果を抽出\n",
    "    for g in soup.select(\".tF2Cxc\"):\n",
    "        title = g.select_one(\".DKV0Md\").text if g.select_one(\".DKV0Md\") else \"タイトルなし\"\n",
    "        link = g.select_one(\".yuRUbf a\")[\"href\"] if g.select_one(\".yuRUbf a\") else \"リンクなし\"\n",
    "        results.append(f\"{title}: {link}\")\n",
    "\n",
    "        # 最大数に達したら終了\n",
    "        if len(results) >= num_results:\n",
    "            break\n",
    "\n",
    "    return results\n"
   ]
  },
  {
   "cell_type": "markdown",
   "metadata": {},
   "source": [
    "### 課題2：使用するツールを設定\n",
    "以下のコードにgoogle_search_toolの設定を追加してみてください。"
   ]
  },
  {
   "cell_type": "code",
   "execution_count": 24,
   "metadata": {},
   "outputs": [],
   "source": [
    "\n",
    "tools = [get_current_datetime, ]"
   ]
  },
  {
   "cell_type": "markdown",
   "metadata": {},
   "source": [
    "### 課題3：ReActベースのエージェントを作成する。\n",
    "1. 課題2で設定したツールを使ってReActベースのエージェントを作成してください。\n",
    "2. promptをチューニングして、正しくAIニュースを取得できるようにしてください。"
   ]
  },
  {
   "cell_type": "code",
   "execution_count": null,
   "metadata": {},
   "outputs": [],
   "source": [
    "from langgraph.prebuilt import create_react_agent\n",
    "from langgraph.prebuilt.chat_agent_executor import AgentState\n",
    "from langchain_core.prompts import ChatPromptTemplate\n",
    "prompt = ChatPromptTemplate.from_messages([\n",
    "    (\"system\", \"\"\"You are a news search assistant. \"\"\"),\n",
    "    (\"placeholder\", \"{messages}\"),\n",
    "])\n",
    "\n",
    "def _modify_state_messages(state: AgentState):\n",
    "    return prompt.invoke({\"messages\": state[\"messages\"]}).to_messages()\n",
    "\n",
    "query=\"Tell me about AI news\"\n",
    "\n",
    "# ここにエージェントの作成する\n",
    "langgraph_agent_executor = \n",
    "\n",
    "\n",
    "\n",
    "# エージェントの出力を表示をここに書く\n",
    "\n",
    "\n",
    "\n",
    "\n",
    "    # 出力を綺麗にしたい場合は以下のコメントアウトを外してください\n",
    "    # if 'agent' in step:\n",
    "    #     print(\"\\n=== Agent Action ===\")\n",
    "    #     messages = step['agent']['messages'][0]\n",
    "        \n",
    "    #     # ツール呼び出しの情報を表示\n",
    "    #     if messages.additional_kwargs.get('tool_calls'):\n",
    "    #         for tool_call in messages.additional_kwargs['tool_calls']:\n",
    "    #             print(f\"Tool: {tool_call['function']['name']}\")\n",
    "    #             print(f\"Arguments: {tool_call['function']['arguments']}\")\n",
    "        \n",
    "    #     # 最終的な応答を表示\n",
    "    #     if messages.content:\n",
    "    #         print(f\"Final Response: {messages.content}\")\n",
    "            \n",
    "    # if 'tools' in step:\n",
    "    #     print(\"\\n=== Tool Response ===\")\n",
    "    #     for message in step['tools']['messages']:\n",
    "    #         print(f\"Tool Name: {message.name}\")\n",
    "    #         print(f\"Result: {message.content}\")\n",
    "    \n",
    "    # print(\"\\n-------------------\")"
   ]
  },
  {
   "cell_type": "code",
   "execution_count": null,
   "metadata": {},
   "outputs": [],
   "source": []
  },
  {
   "cell_type": "code",
   "execution_count": null,
   "metadata": {},
   "outputs": [],
   "source": []
  }
 ],
 "metadata": {
  "kernelspec": {
   "display_name": ".venv",
   "language": "python",
   "name": "python3"
  },
  "language_info": {
   "codemirror_mode": {
    "name": "ipython",
    "version": 3
   },
   "file_extension": ".py",
   "mimetype": "text/x-python",
   "name": "python",
   "nbconvert_exporter": "python",
   "pygments_lexer": "ipython3",
   "version": "3.11.8"
  }
 },
 "nbformat": 4,
 "nbformat_minor": 2
}
