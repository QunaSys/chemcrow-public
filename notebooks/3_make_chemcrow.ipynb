{
 "cells": [
  {
   "cell_type": "markdown",
   "metadata": {},
   "source": [
    "## 準備をしよう！\n",
    "\n",
    "### 1. ライブラリのインポート\n",
    "- まずはじめに、このノートブックで使用するライブラリをインポートします。\n",
    "\n",
    "### 2. DifyからAPIキーを取得\n",
    "- Difyにログイン(https://dify-llm-study-2nd-50086289502.asia-northeast1.run.app/apps)\n",
    "- ChatBotを作成\n",
    "- 「APIアクセス」からAPIキーとURLを取得\n",
    "\n",
    "### 3. 取得したAPIkeyとURLを設定\n",
    "- 取得したAPIキーとURLをGoogle Colabに設定します。\n",
    "\n",
    "### 4. そして以下を実行する。\n"
   ]
  },
  {
   "cell_type": "code",
   "execution_count": null,
   "metadata": {},
   "outputs": [],
   "source": [
    "!git clone https://github.com/QunaSys/chemcrow-public.git\n",
    "%cd chemcrow-public\n",
    "!pip install -e .\n",
    "!pip install langchain langchain_openai httpx==0.27.2 faiss-cpu langgraph"
   ]
  },
  {
   "cell_type": "code",
   "execution_count": null,
   "metadata": {},
   "outputs": [],
   "source": [
    "from google.colab import userdata\n",
    "\n",
    "dify_api_key=userdata.get('DIFY_API_KEY')\n",
    "dify_base_url=userdata.get('DIFY_BASE_URL')"
   ]
  },
  {
   "cell_type": "markdown",
   "metadata": {},
   "source": [
    "## 演習3\n",
    "\n",
    "演習2で作成したReActベースのエージェントにChemCrowのツールを使わせてみましょう。\n",
    "ツールの読み込みは以下のコードを実行することで可能です。\n",
    "\n"
   ]
  },
  {
   "cell_type": "code",
   "execution_count": 4,
   "metadata": {},
   "outputs": [],
   "source": [
    "from chemcrow.agents.tools import make_tools\n",
    "api_keys={}\n",
    "tools = make_tools(model, api_keys=api_keys)\n"
   ]
  },
  {
   "cell_type": "markdown",
   "metadata": {},
   "source": [
    "### 使用するLLMモデルを設定"
   ]
  },
  {
   "cell_type": "code",
   "execution_count": 5,
   "metadata": {},
   "outputs": [],
   "source": [
    "\n",
    "from chemcrow.agents.dify_llm import DifyCustomLLM\n",
    "model =DifyCustomLLM(api_key=dify_api_key, user_id=\"llm-study-2\", base_url=dify_base_url)\n"
   ]
  },
  {
   "cell_type": "markdown",
   "metadata": {},
   "source": [
    "### ReActベースのエージェントにChemCrowのツールを使わせる。"
   ]
  },
  {
   "cell_type": "code",
   "execution_count": null,
   "metadata": {},
   "outputs": [],
   "source": [
    "from langgraph.prebuilt import create_react_agent\n",
    "from langgraph.prebuilt.chat_agent_executor import AgentState\n",
    "from langchain_core.prompts import ChatPromptTemplate\n",
    "\n",
    "prompt = ChatPromptTemplate.from_messages([\n",
    "    (\"system\", \"\"\"You are a chemistry expert assistant. \"\"\"),\n",
    "    (\"placeholder\", \"{messages}\"),\n",
    "])\n",
    "\n",
    "def _modify_state_messages(state: AgentState):\n",
    "    return prompt.invoke({\"messages\": state[\"messages\"]}).to_messages()\n",
    "\n",
    "query=\"What is the molecular weight of tylenol?\"\n",
    "\n",
    "# ここにエージェントの作成する\n",
    "langgraph_agent_executor = \n",
    "\n",
    "\n",
    "\n",
    "# エージェントの出力を表示をここに書く\n",
    "\n",
    "\n",
    "\n",
    "\n",
    "    # 出力を綺麗にしたい場合は以下のコメントアウトを外してください\n",
    "    # if 'agent' in step:\n",
    "    #     print(\"\\n=== Agent Action ===\")\n",
    "    #     messages = step['agent']['messages'][0]\n",
    "        \n",
    "    #     # ツール呼び出しの情報を表示\n",
    "    #     if messages.additional_kwargs.get('tool_calls'):\n",
    "    #         for tool_call in messages.additional_kwargs['tool_calls']:\n",
    "    #             print(f\"Tool: {tool_call['function']['name']}\")\n",
    "    #             print(f\"Arguments: {tool_call['function']['arguments']}\")\n",
    "        \n",
    "    #     # 最終的な応答を表示\n",
    "    #     if messages.content:\n",
    "    #         print(f\"Final Response: {messages.content}\")\n",
    "            \n",
    "    # if 'tools' in step:\n",
    "    #     print(\"\\n=== Tool Response ===\")\n",
    "    #     for message in step['tools']['messages']:\n",
    "    #         print(f\"Tool Name: {message.name}\")\n",
    "    #         print(f\"Result: {message.content}\")\n",
    "    \n",
    "    # print(\"\\n-------------------\")"
   ]
  },
  {
   "cell_type": "markdown",
   "metadata": {},
   "source": [
    "## 演習3+α\n",
    "\n",
    "以下からChemCrowを実行して、ご自身が作成したChemCrowと比較してみましょう。"
   ]
  },
  {
   "cell_type": "code",
   "execution_count": null,
   "metadata": {},
   "outputs": [],
   "source": [
    "from google.colab import userdata\n",
    "\n",
    "\n",
    "api_keys={}\n",
    "api_keys[\"DIFY_API_KEY\"]=userdata.get('DIFY_API_KEY')\n",
    "api_keys[\"DIFY_BASE_URL\"]=userdata.get('DIFY_BASE_URL')\n",
    "\n",
    "from chemcrow.agents import ChemCrow\n",
    "\n",
    "\n",
    "chem_model = ChemCrow(model=\"dify\", temp=0.1, streaming=False,api_keys=api_keys)\n",
    "chem_model.run(\"What is the molecular weight of tylenol?\")"
   ]
  }
 ],
 "metadata": {
  "kernelspec": {
   "display_name": ".venv",
   "language": "python",
   "name": "python3"
  },
  "language_info": {
   "codemirror_mode": {
    "name": "ipython",
    "version": 3
   },
   "file_extension": ".py",
   "mimetype": "text/x-python",
   "name": "python",
   "nbconvert_exporter": "python",
   "pygments_lexer": "ipython3",
   "version": "3.11.8"
  }
 },
 "nbformat": 4,
 "nbformat_minor": 2
}
